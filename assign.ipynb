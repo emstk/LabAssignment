{
 "cells": [
  {
   "cell_type": "code",
   "execution_count": 1,
   "metadata": {
    "collapsed": true
   },
   "outputs": [],
   "source": [
    "#!/usr/bin/env python\n",
    "\n",
    "from PyQt5.QtWidgets import (QApplication, QWidget,\n",
    "                             QGridLayout, QVBoxLayout, QHBoxLayout,\n",
    "                             QLabel, QLineEdit, QPushButton)\n",
    "import networkx as nx\n",
    "import csv\n",
    "from networkx.algorithms.flow import maximum_flow\n",
    "import numpy as np\n",
    "import sys"
   ]
  },
  {
   "cell_type": "code",
   "execution_count": 2,
   "metadata": {
    "collapsed": false
   },
   "outputs": [],
   "source": [
    "def lab_assign(file1, file2):\n",
    "    table_raw = csv.reader(open(\"%s.csv\" %file1,'rU'))\n",
    "    table = []\n",
    "    for row in table_raw:\n",
    "        table.append(row)\n",
    "    table = np.array(table)\n",
    "\n",
    "    st = table[1:len(table),0]\n",
    "    lab = table[0,1:len(table[0])]\n",
    "    wish = table[1:len(table),1:len(table[0])]\n",
    "    \n",
    "    for l in range(len(wish)):\n",
    "        for r in range(len(wish[0])):\n",
    "            if len(wish[l][r]) == 0:\n",
    "                wish[l][r] = 99\n",
    "    wish = wish.astype(np.float)\n",
    "    \"\"\"\n",
    "    for i in range(len(wish)):\n",
    "        num_0 = len(wish[i][wish[i]==99])\n",
    "        num_1 = len(wish[i][wish[i]==1])\n",
    "        num_2 = len(wish[i][wish[i]==2])\n",
    "        num_3 = len(wish[i][wish[i]==3])\n",
    "        if num_0 < len(wish[0]) - 3:\n",
    "            print 'something is wrong with line %d' %(i+2)\n",
    "            sys.exit()\n",
    "        if num_1 > 1:\n",
    "            print 'something is wrong with line %d' %(i+2)\n",
    "            sys.exit()\n",
    "        if num_2 > 1:\n",
    "            print 'something is wrong with line %d' %(i+2)\n",
    "            sys.exit()\n",
    "        if num_3 > 1:\n",
    "            print 'something is wrong with line %d' %(i+2)\n",
    "            sys.exit()\n",
    "    \"\"\"\n",
    "\n",
    "    cap_raw = csv.reader(open(\"%s.csv\" %file2,'rU'))\n",
    "    cap = []\n",
    "    for row in cap_raw:\n",
    "        cap.append(row)\n",
    "    cap = cap[1]\n",
    "    cap = np.array(cap)\n",
    "    cap = cap.astype(np.float)\n",
    "    G = nx.DiGraph()\n",
    "    for s in range(len(st)):\n",
    "        G.add_edges_from([('s', st[s], {'capacity': 1, 'weight': 0})])\n",
    "    for s in range(len(st)):\n",
    "        for l in range(len(lab)):\n",
    "            G.add_edges_from([(st[s], lab[l], {'capacity': 1, 'weight': wish[s][l]})])\n",
    "    for l in range(0,len(lab)):\n",
    "        G.add_edges_from([(lab[l], 'v', {'capacity': cap[l], 'weight': 0})])\n",
    "    result = []\n",
    "    mincostFlow = nx.max_flow_min_cost(G, 's', 'v')\n",
    "    result = []\n",
    "    stlab = np.zeros([len(st)])\n",
    "    emp = np.zeros([len(wish), len(wish[0])])\n",
    "    for n, st_ in enumerate(st):\n",
    "        stFlow = mincostFlow[st_]\n",
    "        for i in range(len(lab)):\n",
    "            if stFlow[lab[i]] == 1:\n",
    "                stlab[n] = i\n",
    "    emp = np.zeros([len(wish), len(wish[0])])\n",
    "    for i in range(len(stlab)):\n",
    "        emp[i][int(stlab[i])] = 1\n",
    "    \n",
    "    for i in range(0,len(emp)):\n",
    "        for m in range(0, len(emp[0])):\n",
    "            table[i+1][m+1] = emp[i][m]\n",
    "    print 'Result:\\n'\n",
    "    print table\n",
    "    \n",
    "    #st = np.transpose(st, axes=None)\n",
    "    #a = np.hstack((st, emp))\n",
    "    #return emp\n",
    "    np.savetxt(\"result.csv\", table, delimiter=\",\", fmt=\"%s\")"
   ]
  },
  {
   "cell_type": "code",
   "execution_count": null,
   "metadata": {
    "collapsed": false
   },
   "outputs": [],
   "source": [
    "class MainWindow(QWidget):\n",
    "    def __init__(self, parent=None):\n",
    "        super(MainWindow, self).__init__(parent)\n",
    " \n",
    "        self.inputLine = QLineEdit()\n",
    "        self.inputLine2 = QLineEdit()\n",
    "        self.outputLine = QLineEdit()\n",
    "        self.outputLine.setReadOnly(True)\n",
    "\n",
    "        self.calcButton = QPushButton(\"&Calc\")\n",
    "        self.calcButton.clicked.connect(self.calc)\n",
    "\n",
    "        lineLayout = QGridLayout()\n",
    "        lineLayout.addWidget(QLabel(\"Student's wish\"), 0, 0)\n",
    "        lineLayout.addWidget(self.inputLine, 0, 1)\n",
    "        lineLayout.addWidget(QLabel(\"Lab capacity\"), 1, 0)\n",
    "        lineLayout.addWidget(self.inputLine2, 1, 1)\n",
    "\n",
    "        buttonLayout = QVBoxLayout()\n",
    "        buttonLayout.addWidget(self.calcButton)\n",
    "\n",
    "        mainLayout = QHBoxLayout()\n",
    "        mainLayout.addLayout(lineLayout)\n",
    "        mainLayout.addLayout(buttonLayout)\n",
    "\n",
    "        self.setLayout(mainLayout)\n",
    "        self.setWindowTitle(\"File names\")\n",
    "\n",
    "    def calc(self):\n",
    "        file1 = str(self.inputLine.text())\n",
    "        file2 = str(self.inputLine2.text())\n",
    "        return lab_assign(file1, file2)"
   ]
  },
  {
   "cell_type": "code",
   "execution_count": null,
   "metadata": {
    "collapsed": false
   },
   "outputs": [
    {
     "name": "stdout",
     "output_type": "stream",
     "text": [
      "Result:\n",
      "\n",
      "[[' ' '\\x8c\\xa4\\x8b\\x86\\x8e\\xba1' '\\x8c\\xa4\\x8b\\x86\\x8e\\xba2'\n",
      "  '\\x8c\\xa4\\x8b\\x86\\x8e\\xba3' '\\x8c\\xa4\\x8b\\x86\\x8e\\xba4'\n",
      "  '\\x8c\\xa4\\x8b\\x86\\x8e\\xba5' '\\x8c\\xa4\\x8b\\x86\\x8e\\xba6']\n",
      " ['\\x8aw\\x90\\xb61' '1.0' '0.0' '0.0' '0.0' '0.0' '0.0']\n",
      " ['\\x8aw\\x90\\xb62' '0.0' '1.0' '0.0' '0.0' '0.0' '0.0']\n",
      " ['\\x8aw\\x90\\xb63' '0.0' '0.0' '1.0' '0.0' '0.0' '0.0']\n",
      " ['\\x8aw\\x90\\xb64' '0.0' '0.0' '0.0' '1.0' '0.0' '0.0']\n",
      " ['\\x8aw\\x90\\xb65' '0.0' '0.0' '0.0' '0.0' '1.0' '0.0']]\n"
     ]
    }
   ],
   "source": [
    "if __name__ == '__main__':\n",
    "    import sys\n",
    "    app = QApplication(sys.argv)\n",
    "    main_window = MainWindow()\n",
    "\n",
    "    main_window.show()\n",
    "    sys.exit(app.exec_())"
   ]
  },
  {
   "cell_type": "code",
   "execution_count": null,
   "metadata": {
    "collapsed": true
   },
   "outputs": [],
   "source": []
  }
 ],
 "metadata": {
  "kernelspec": {
   "display_name": "Python 2",
   "language": "python",
   "name": "python2"
  },
  "language_info": {
   "codemirror_mode": {
    "name": "ipython",
    "version": 2
   },
   "file_extension": ".py",
   "mimetype": "text/x-python",
   "name": "python",
   "nbconvert_exporter": "python",
   "pygments_lexer": "ipython2",
   "version": "2.7.13"
  }
 },
 "nbformat": 4,
 "nbformat_minor": 2
}
